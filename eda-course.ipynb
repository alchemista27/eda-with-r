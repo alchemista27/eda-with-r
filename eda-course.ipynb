{
 "cells": [
  {
   "cell_type": "code",
   "execution_count": 1,
   "metadata": {
    "vscode": {
     "languageId": "r"
    }
   },
   "outputs": [
    {
     "name": "stderr",
     "output_type": "stream",
     "text": [
      "\n",
      "Attaching package: 'dplyr'\n",
      "\n",
      "\n",
      "The following objects are masked from 'package:stats':\n",
      "\n",
      "    filter, lag\n",
      "\n",
      "\n",
      "The following objects are masked from 'package:base':\n",
      "\n",
      "    intersect, setdiff, setequal, union\n",
      "\n",
      "\n",
      "\u001b[1mRows: \u001b[22m\u001b[34m23272\u001b[39m \u001b[1mColumns: \u001b[22m\u001b[34m11\u001b[39m\n",
      "\u001b[36m──\u001b[39m \u001b[1mColumn specification\u001b[22m \u001b[36m────────────────────────────────────────────────────────\u001b[39m\n",
      "\u001b[1mDelimiter:\u001b[22m \",\"\n",
      "\u001b[31mchr\u001b[39m (10): name, id, align, eye, hair, gender, gsm, alive, first_appear, publ...\n",
      "\u001b[32mdbl\u001b[39m  (1): appearances\n",
      "\n",
      "\u001b[36mℹ\u001b[39m Use `spec()` to retrieve the full column specification for this data.\n",
      "\u001b[36mℹ\u001b[39m Specify the column types or set `show_col_types = FALSE` to quiet this message.\n"
     ]
    },
    {
     "data": {
      "text/html": [
       "<table class=\"dataframe\">\n",
       "<caption>A tibble: 6 × 11</caption>\n",
       "<thead>\n",
       "\t<tr><th scope=col>name</th><th scope=col>id</th><th scope=col>align</th><th scope=col>eye</th><th scope=col>hair</th><th scope=col>gender</th><th scope=col>gsm</th><th scope=col>alive</th><th scope=col>appearances</th><th scope=col>first_appear</th><th scope=col>publisher</th></tr>\n",
       "\t<tr><th scope=col>&lt;chr&gt;</th><th scope=col>&lt;chr&gt;</th><th scope=col>&lt;chr&gt;</th><th scope=col>&lt;chr&gt;</th><th scope=col>&lt;chr&gt;</th><th scope=col>&lt;chr&gt;</th><th scope=col>&lt;chr&gt;</th><th scope=col>&lt;chr&gt;</th><th scope=col>&lt;dbl&gt;</th><th scope=col>&lt;chr&gt;</th><th scope=col>&lt;chr&gt;</th></tr>\n",
       "</thead>\n",
       "<tbody>\n",
       "\t<tr><td>Spider-Man (Peter Parker)            </td><td>Secret </td><td>Good   </td><td>Hazel Eyes</td><td>Brown Hair</td><td>Male</td><td>NA</td><td>Living Characters</td><td>4043</td><td>Aug-62</td><td>marvel</td></tr>\n",
       "\t<tr><td>Captain America (Steven Rogers)      </td><td>Public </td><td>Good   </td><td>Blue Eyes </td><td>White Hair</td><td>Male</td><td>NA</td><td>Living Characters</td><td>3360</td><td>Mar-41</td><td>marvel</td></tr>\n",
       "\t<tr><td>Wolverine (James \\\"Logan\\\" Howlett)</td><td>Public </td><td>Neutral</td><td>Blue Eyes </td><td>Black Hair</td><td>Male</td><td>NA</td><td>Living Characters</td><td>3061</td><td>Oct-74</td><td>marvel</td></tr>\n",
       "\t<tr><td>Iron Man (Anthony \\\"Tony\\\" Stark)  </td><td>Public </td><td>Good   </td><td>Blue Eyes </td><td>Black Hair</td><td>Male</td><td>NA</td><td>Living Characters</td><td>2961</td><td>Mar-63</td><td>marvel</td></tr>\n",
       "\t<tr><td>Thor (Thor Odinson)                  </td><td>No Dual</td><td>Good   </td><td>Blue Eyes </td><td>Blond Hair</td><td>Male</td><td>NA</td><td>Living Characters</td><td>2258</td><td>Nov-50</td><td>marvel</td></tr>\n",
       "\t<tr><td>Benjamin Grimm (Earth-616)           </td><td>Public </td><td>Good   </td><td>Blue Eyes </td><td>No Hair   </td><td>Male</td><td>NA</td><td>Living Characters</td><td>2255</td><td>Nov-61</td><td>marvel</td></tr>\n",
       "</tbody>\n",
       "</table>\n"
      ],
      "text/latex": [
       "A tibble: 6 × 11\n",
       "\\begin{tabular}{lllllllllll}\n",
       " name & id & align & eye & hair & gender & gsm & alive & appearances & first\\_appear & publisher\\\\\n",
       " <chr> & <chr> & <chr> & <chr> & <chr> & <chr> & <chr> & <chr> & <dbl> & <chr> & <chr>\\\\\n",
       "\\hline\n",
       "\t Spider-Man (Peter Parker)             & Secret  & Good    & Hazel Eyes & Brown Hair & Male & NA & Living Characters & 4043 & Aug-62 & marvel\\\\\n",
       "\t Captain America (Steven Rogers)       & Public  & Good    & Blue Eyes  & White Hair & Male & NA & Living Characters & 3360 & Mar-41 & marvel\\\\\n",
       "\t Wolverine (James \\textbackslash{}\"Logan\\textbackslash{}\" Howlett) & Public  & Neutral & Blue Eyes  & Black Hair & Male & NA & Living Characters & 3061 & Oct-74 & marvel\\\\\n",
       "\t Iron Man (Anthony \\textbackslash{}\"Tony\\textbackslash{}\" Stark)   & Public  & Good    & Blue Eyes  & Black Hair & Male & NA & Living Characters & 2961 & Mar-63 & marvel\\\\\n",
       "\t Thor (Thor Odinson)                   & No Dual & Good    & Blue Eyes  & Blond Hair & Male & NA & Living Characters & 2258 & Nov-50 & marvel\\\\\n",
       "\t Benjamin Grimm (Earth-616)            & Public  & Good    & Blue Eyes  & No Hair    & Male & NA & Living Characters & 2255 & Nov-61 & marvel\\\\\n",
       "\\end{tabular}\n"
      ],
      "text/markdown": [
       "\n",
       "A tibble: 6 × 11\n",
       "\n",
       "| name &lt;chr&gt; | id &lt;chr&gt; | align &lt;chr&gt; | eye &lt;chr&gt; | hair &lt;chr&gt; | gender &lt;chr&gt; | gsm &lt;chr&gt; | alive &lt;chr&gt; | appearances &lt;dbl&gt; | first_appear &lt;chr&gt; | publisher &lt;chr&gt; |\n",
       "|---|---|---|---|---|---|---|---|---|---|---|\n",
       "| Spider-Man (Peter Parker)             | Secret  | Good    | Hazel Eyes | Brown Hair | Male | NA | Living Characters | 4043 | Aug-62 | marvel |\n",
       "| Captain America (Steven Rogers)       | Public  | Good    | Blue Eyes  | White Hair | Male | NA | Living Characters | 3360 | Mar-41 | marvel |\n",
       "| Wolverine (James \\\"Logan\\\" Howlett) | Public  | Neutral | Blue Eyes  | Black Hair | Male | NA | Living Characters | 3061 | Oct-74 | marvel |\n",
       "| Iron Man (Anthony \\\"Tony\\\" Stark)   | Public  | Good    | Blue Eyes  | Black Hair | Male | NA | Living Characters | 2961 | Mar-63 | marvel |\n",
       "| Thor (Thor Odinson)                   | No Dual | Good    | Blue Eyes  | Blond Hair | Male | NA | Living Characters | 2258 | Nov-50 | marvel |\n",
       "| Benjamin Grimm (Earth-616)            | Public  | Good    | Blue Eyes  | No Hair    | Male | NA | Living Characters | 2255 | Nov-61 | marvel |\n",
       "\n"
      ],
      "text/plain": [
       "  name                                  id      align   eye        hair      \n",
       "1 Spider-Man (Peter Parker)             Secret  Good    Hazel Eyes Brown Hair\n",
       "2 Captain America (Steven Rogers)       Public  Good    Blue Eyes  White Hair\n",
       "3 Wolverine (James \\\\\"Logan\\\\\" Howlett) Public  Neutral Blue Eyes  Black Hair\n",
       "4 Iron Man (Anthony \\\\\"Tony\\\\\" Stark)   Public  Good    Blue Eyes  Black Hair\n",
       "5 Thor (Thor Odinson)                   No Dual Good    Blue Eyes  Blond Hair\n",
       "6 Benjamin Grimm (Earth-616)            Public  Good    Blue Eyes  No Hair   \n",
       "  gender gsm alive             appearances first_appear publisher\n",
       "1 Male   NA  Living Characters 4043        Aug-62       marvel   \n",
       "2 Male   NA  Living Characters 3360        Mar-41       marvel   \n",
       "3 Male   NA  Living Characters 3061        Oct-74       marvel   \n",
       "4 Male   NA  Living Characters 2961        Mar-63       marvel   \n",
       "5 Male   NA  Living Characters 2258        Nov-50       marvel   \n",
       "6 Male   NA  Living Characters 2255        Nov-61       marvel   "
      ]
     },
     "metadata": {},
     "output_type": "display_data"
    }
   ],
   "source": [
    "# load library\n",
    "library(dplyr)\n",
    "library(ggplot2)\n",
    "library(readr)\n",
    "library(tidyr)\n",
    "\n",
    "# load dataset\n",
    "comics <- readr::read_csv(\"data/comics.csv\")\n",
    "head(comics)"
   ]
  },
  {
   "cell_type": "code",
   "execution_count": 6,
   "metadata": {
    "vscode": {
     "languageId": "r"
    }
   },
   "outputs": [
    {
     "data": {
      "text/plain": [
       "         \n",
       "           Bad Good Neutral Reformed Criminals\n",
       "  No Dual  474  647     390                  0\n",
       "  Public  2172 2930     965                  1\n",
       "  Secret  4493 2475     959                  1\n",
       "  Unknown    7    0       2                  0"
      ]
     },
     "metadata": {},
     "output_type": "display_data"
    }
   ],
   "source": [
    "table(comics$id, comics$align)"
   ]
  },
  {
   "cell_type": "code",
   "execution_count": 9,
   "metadata": {
    "vscode": {
     "languageId": "r"
    }
   },
   "outputs": [
    {
     "data": {
      "image/png": "[encoded data removed]",
      "text/plain": [
       "plot without title"
      ]
     },
     "metadata": {
      "image/png": {
       "height": 420,
       "width": 420
      }
     },
     "output_type": "display_data"
    }
   ],
   "source": [
    "ggplot(comics, aes(x = gender, fill=align)) + \n",
    "    geom_bar(position = \"dodge\") + \n",
    "    theme(axis.text.x = element_text(angle = 90))"
   ]
  },
  {
   "cell_type": "code",
   "execution_count": 10,
   "metadata": {
    "vscode": {
     "languageId": "r"
    }
   },
   "outputs": [
    {
     "data": {
      "text/plain": [
       "                    \n",
       "                        Female      Male     Other\n",
       "  Bad                0.0821968 0.3950985 0.0016722\n",
       "  Good               0.1301144 0.2512933 0.0008883\n",
       "  Neutral            0.0436850 0.0940064 0.0008883\n",
       "  Reformed Criminals 0.0000523 0.0001045 0.0000000"
      ]
     },
     "metadata": {},
     "output_type": "display_data"
    },
    {
     "data": {
      "text/plain": [
       "                    \n",
       "                       Female     Male    Other\n",
       "  Bad                0.321020 0.533554 0.484848\n",
       "  Good               0.508163 0.339355 0.257576\n",
       "  Neutral            0.170612 0.126949 0.257576\n",
       "  Reformed Criminals 0.000204 0.000141 0.000000"
      ]
     },
     "metadata": {},
     "output_type": "display_data"
    }
   ],
   "source": [
    "tab <- table(comics$align, comics$gender)\n",
    "options(scipen = 999, digits = 3) # Print fewer digits\n",
    "prop.table(tab)     # Joint proportions\n",
    "prop.table(tab, 2)  # Conditional on columns"
   ]
  },
  {
   "cell_type": "code",
   "execution_count": 11,
   "metadata": {
    "vscode": {
     "languageId": "r"
    }
   },
   "outputs": [
    {
     "data": {
      "image/png": "[encoded data removed]",
      "text/plain": [
       "plot without title"
      ]
     },
     "metadata": {
      "image/png": {
       "height": 420,
       "width": 420
      }
     },
     "output_type": "display_data"
    }
   ],
   "source": [
    "ggplot(comics, aes(align, fill = gender)) +\n",
    "    geom_bar(position = \"fill\") +\n",
    "    ylab(\"proportion\")"
   ]
  },
  {
   "cell_type": "code",
   "execution_count": null,
   "metadata": {
    "vscode": {
     "languageId": "r"
    }
   },
   "outputs": [],
   "source": []
  }
 ],
 "metadata": {
  "kernelspec": {
   "display_name": "R",
   "language": "R",
   "name": "ir"
  },
  "language_info": {
   "codemirror_mode": "r",
   "file_extension": ".r",
   "mimetype": "text/x-r-source",
   "name": "R",
   "pygments_lexer": "r",
   "version": "4.3.3"
  }
 },
 "nbformat": 4,
 "nbformat_minor": 2
}
